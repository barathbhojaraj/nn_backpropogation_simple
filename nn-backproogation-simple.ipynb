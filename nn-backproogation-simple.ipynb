{
 "cells": [
  {
   "cell_type": "code",
   "execution_count": 1,
   "metadata": {},
   "outputs": [
    {
     "name": "stdout",
     "output_type": "stream",
     "text": [
      "iteration= 1 W1=  2.000 W2=  0.500 y_hat=  2.000 los_val= 162.000 \n",
      "iteration= 2 W1=  2.180 W2=  1.220 y_hat=  5.319 los_val= 107.763 \n",
      "iteration= 3 W1=  2.538 W2=  1.860 y_hat=  9.443 los_val=  55.730 \n",
      "iteration= 4 W1=  2.931 W2=  2.396 y_hat= 14.045 los_val=  17.729 \n",
      "iteration= 5 W1=  3.216 W2=  2.745 y_hat= 17.658 los_val=   2.742 \n",
      "iteration= 6 W1=  3.345 W2=  2.896 y_hat= 19.372 los_val=   0.197 \n",
      "iteration= 7 W1=  3.381 W2=  2.938 y_hat= 19.867 los_val=   0.009 \n",
      "iteration= 8 W1=  3.389 W2=  2.947 y_hat= 19.974 los_val=   0.000 \n",
      "iteration= 9 W1=  3.391 W2=  2.949 y_hat= 19.995 los_val=   0.000 \n",
      "iteration=10 W1=  3.391 W2=  2.949 y_hat= 19.999 los_val=   0.000 \n",
      "training complete\n"
     ]
    }
   ],
   "source": [
    "import numpy as np \n",
    "\n",
    "#foward pass\n",
    "def forwardpass(x,w1,w2):\n",
    "    h=x*w1\n",
    "    y_hat= h*w2\n",
    "    return h, y_hat\n",
    "\n",
    "\n",
    "# Loss function\n",
    "\n",
    "def mse_loss(y,y_hat):\n",
    "    return 0.5 * (y-y_hat)**2\n",
    "\n",
    "# Gradients\n",
    "\n",
    "def compute_gradients(x,w1,w2,y):\n",
    "    h,y_hat=forwardpass(x,w1,w2)\n",
    "    dl_dy_hat=y_hat - y\n",
    "    dl_dw2= dl_dy_hat*h\n",
    "    dl_dw1= dl_dy_hat*(x*w2)\n",
    "    return dl_dw1,dl_dw2\n",
    "\n",
    "# Training loop\n",
    "\n",
    "def train_network(x,y,w1_init,w2_init,alpha=0.01,epochs=10):\n",
    "    w1,w2=w1_init,w2_init\n",
    "    \n",
    "    for i in range(epochs):\n",
    "        h,y_hat= forwardpass(x,w1,w2)\n",
    "        loss_val= mse_loss(y,y_hat)\n",
    "        dl_dw1, dl_dw2=compute_gradients(x,w1,w2,y)\n",
    "        \n",
    "        print(f\"iteration={i+1:2d} \"\n",
    "              f\"W1={w1:7.3f} W2={w2:7.3f} \"\n",
    "              f\"y_hat={y_hat:7.3f} \"\n",
    "              f\"los_val={loss_val:8.3f} \")\n",
    "        \n",
    "        w1-=(alpha*dl_dw1) \n",
    "        w2-=(alpha*dl_dw2)\n",
    "        \n",
    "    return w1,w2\n",
    "\n",
    "\n",
    "if __name__==\"__main__\":\n",
    "    x = 2.0\n",
    "    y= 20.0\n",
    "    w1_init=2.0\n",
    "    w2_init = 0.5\n",
    "    alpha = 0.01\n",
    "    w1_final, w2_final = train_network(x,y,w1_init,w2_init,alpha,10)\n",
    "    \n",
    "    print(\"training complete\")"
   ]
  }
 ],
 "metadata": {
  "kernelspec": {
   "display_name": "base",
   "language": "python",
   "name": "python3"
  },
  "language_info": {
   "codemirror_mode": {
    "name": "ipython",
    "version": 3
   },
   "file_extension": ".py",
   "mimetype": "text/x-python",
   "name": "python",
   "nbconvert_exporter": "python",
   "pygments_lexer": "ipython3",
   "version": "3.11.10"
  }
 },
 "nbformat": 4,
 "nbformat_minor": 2
}
